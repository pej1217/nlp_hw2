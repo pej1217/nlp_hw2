{
 "cells": [
  {
   "cell_type": "code",
   "execution_count": 26,
   "id": "d7264dd1",
   "metadata": {},
   "outputs": [
    {
     "data": {
      "text/plain": [
       "['.DS_Store',\n",
       " 'AC',\n",
       " 'AD',\n",
       " 'AM',\n",
       " 'AJ',\n",
       " 'AK',\n",
       " 'AL',\n",
       " 'AE',\n",
       " 'AB',\n",
       " 'AG',\n",
       " 'AI',\n",
       " 'AH',\n",
       " 'AA',\n",
       " 'AF']"
      ]
     },
     "execution_count": 26,
     "metadata": {},
     "output_type": "execute_result"
    }
   ],
   "source": [
    "import os\n",
    "os.listdir(r'./wiki_zh')"
   ]
  },
  {
   "cell_type": "code",
   "execution_count": 27,
   "id": "95bc584b",
   "metadata": {},
   "outputs": [
    {
     "ename": "SyntaxError",
     "evalue": "invalid syntax (3383648689.py, line 1)",
     "output_type": "error",
     "traceback": [
      "\u001b[0;36m  File \u001b[0;32m\"/var/folders/5c/0gkvjclj5zbd_1m1d92k5hz40000gn/T/ipykernel_24786/3383648689.py\"\u001b[0;36m, line \u001b[0;32m1\u001b[0m\n\u001b[0;31m    for i in os.listdir(r'./wiki_zh')\u001b[0m\n\u001b[0m                                     ^\u001b[0m\n\u001b[0;31mSyntaxError\u001b[0m\u001b[0;31m:\u001b[0m invalid syntax\n"
     ]
    }
   ],
   "source": [
    "for i in os.listdir(r'./wiki_zh')\n",
    "    print(i)"
   ]
  },
  {
   "cell_type": "code",
   "execution_count": null,
   "id": "4b730578",
   "metadata": {},
   "outputs": [],
   "source": []
  }
 ],
 "metadata": {
  "kernelspec": {
   "display_name": "Python 3 (ipykernel)",
   "language": "python",
   "name": "python3"
  },
  "language_info": {
   "codemirror_mode": {
    "name": "ipython",
    "version": 3
   },
   "file_extension": ".py",
   "mimetype": "text/x-python",
   "name": "python",
   "nbconvert_exporter": "python",
   "pygments_lexer": "ipython3",
   "version": "3.9.4"
  }
 },
 "nbformat": 4,
 "nbformat_minor": 5
}

{
 "cells": [
  {
   "cell_type": "code",
   "execution_count": null,
   "id": "6bc8910c",
   "metadata": {},
   "outputs": [],
   "source": [
    "import requests\n",
    "from bs4 import BeautifulSoup\n",
    "infos = []\n",
    "for i in range(6000):\n",
    "    url = \"https://movies.yahoo.com.tw/movieinfo_main/\" + str(i)\n",
    "    resp = requests.get(url)\n",
    "    soup = BeautifulSoup(resp.text)\n",
    "    \n",
    "    if soup.find('div', class_='movie_intro_info_r'):\n",
    "        for d in soup.find_all('div', id=\"content_l\"):\n",
    "            info = {}\n",
    "            \n",
    "            info['名稱'] = d.find('div', class_='movie_intro_info_r').find('h1').text.strip()\n",
    "            \n",
    "            movie_class = []\n",
    "            for cl in d.find('div', class_='level_name_box').find_all('div', class_='level_name'):\n",
    "                movie_class.append(cl.find('a').text.strip())\n",
    "            info['分類'] = movie_class\n",
    "            \n",
    "            info['劇情介紹'] = d.find('span', id ='story').text.strip()\n",
    "            info['上映日期'] = d.find('span').text.strip()[5:]\n",
    "            \n",
    "            infos.append(info)\n"
   ]
  },
  {
   "cell_type": "code",
   "execution_count": 9,
   "id": "52bbe0e3",
   "metadata": {},
   "outputs": [],
   "source": [
    "import pandas as pd\n",
    "\n",
    "df = pd.DataFrame(infos)\n",
    "df.to_csv('movies.csv', encoding='utf_8_sig')"
   ]
  },
  {
   "cell_type": "code",
   "execution_count": null,
   "id": "0df784ce",
   "metadata": {},
   "outputs": [],
   "source": []
  }
 ],
 "metadata": {
  "kernelspec": {
   "display_name": "Python 3 (ipykernel)",
   "language": "python",
   "name": "python3"
  },
  "language_info": {
   "codemirror_mode": {
    "name": "ipython",
    "version": 3
   },
   "file_extension": ".py",
   "mimetype": "text/x-python",
   "name": "python",
   "nbconvert_exporter": "python",
   "pygments_lexer": "ipython3",
   "version": "3.9.4"
  }
 },
 "nbformat": 4,
 "nbformat_minor": 5
}

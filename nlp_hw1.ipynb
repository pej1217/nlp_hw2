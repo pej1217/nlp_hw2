{
 "cells": [
  {
   "cell_type": "code",
   "execution_count": 2,
   "id": "9bf1ce22",
   "metadata": {},
   "outputs": [
    {
     "name": "stderr",
     "output_type": "stream",
     "text": [
      "Building prefix dict from the default dictionary ...\n",
      "Loading model from cache /var/folders/5c/0gkvjclj5zbd_1m1d92k5hz40000gn/T/jieba.cache\n",
      "Loading model cost 0.743 seconds.\n",
      "Prefix dict has been built successfully.\n"
     ]
    }
   ],
   "source": [
    "#1斷詞\n",
    "# coding:UTF-8\n",
    "import jieba\n",
    "import jieba.analyse\n",
    "import pandas as pd\n",
    "import matplotlib\n",
    "path = 'hw1-dataset.txt'\n",
    "#result='result.txt'\n",
    "#res=open(result,'w')\n",
    "#count = {}\n",
    "string2=['']\n",
    "with open(path, 'r',encoding=\"UTF-8\") as file:\n",
    "    data = file.read().splitlines()\n",
    "    string2=data\n",
    "stri = \"\".join(string2)\n",
    "string1 = jieba.lcut(stri,cut_all=False)"
   ]
  },
  {
   "cell_type": "code",
   "execution_count": 12,
   "id": "567a31ec",
   "metadata": {},
   "outputs": [
    {
     "name": "stdout",
     "output_type": "stream",
     "text": [
      "7856941\n"
     ]
    }
   ],
   "source": [
    "#高頻\n",
    "count={}\n",
    "words_count = 0\n",
    "for word in string1:\n",
    "    count[word]=count.get(word,0)+1\n",
    "    words_count+=1\n",
    "print(words_count)\n",
    "\n",
    "for word in count :\n",
    "    count[word]=count[word]/words_count\n",
    "    \n",
    "\n",
    "item=list(count.items())\n",
    "wordArr = []\n",
    "countArr =[]\n",
    "item.sort(key=lambda x:x[1],reverse=True)\n",
    "for i in range(100):\n",
    "    word,count=item[i]\n",
    "    wordArr.append(word)\n",
    "    countArr.append(count)"
   ]
  },
  {
   "cell_type": "code",
   "execution_count": 16,
   "id": "1594b75f",
   "metadata": {},
   "outputs": [
    {
     "name": "stdout",
     "output_type": "stream",
     "text": [
      "1 : \t\n",
      "2 : 的\n",
      "3 :  \n",
      "4 : 有\n",
      "5 : ?\n",
      "6 : ？\n",
      "7 : 是\n",
      "8 : 嗎\n",
      "9 : ，\n",
      "10 : 沒\n",
      "11 : 八卦\n",
      "12 : 了\n",
      "13 : 都\n",
      "14 : 你\n",
      "15 : 在\n",
      "16 : 人\n",
      "17 : 什麼\n",
      "18 : 我\n",
      "19 : 就\n",
      "20 : 好\n",
      "21 : 不\n",
      "22 : 要\n",
      "23 : 說\n",
      "24 : 去\n",
      "25 : 會\n",
      "26 : 台灣\n",
      "27 : 跟\n",
      "28 : 怎麼\n",
      "29 : 很\n",
      "30 : 被\n",
      "31 : 為\n",
      "32 : 啊\n",
      "33 : 也\n",
      "34 : 吃\n",
      "35 : 可以\n",
      "36 : 是不是\n",
      "37 : 到\n",
      "38 : 想\n",
      "39 : 肥宅\n",
      "40 : 來\n",
      "41 : 看\n",
      "42 : 真的\n",
      "43 : 後\n",
      "44 : 錢\n",
      "45 : 吧\n",
      "46 : 他\n",
      "47 : 幹\n",
      "48 : 沒有\n",
      "49 : 比\n",
      "50 : 知道\n",
      "51 : 才\n",
      "52 : 辦\n",
      "53 : 自己\n",
      "54 : 多\n",
      "55 : 誰\n",
      "56 : !\n",
      "57 : ！\n",
      "58 : 上\n",
      "59 : 不是\n",
      "60 : 買\n",
      "61 : 就是\n",
      "62 : 啦\n",
      "63 : 最\n",
      "64 : 不會\n",
      "65 : 如果\n",
      "66 : 對\n",
      "67 : 一個\n",
      "68 : 還是\n",
      "69 : 喔\n",
      "70 : 把\n",
      "71 : 該\n",
      "72 : 一堆\n",
      "73 : 中國\n",
      "74 : 。\n",
      "75 : 這樣\n",
      "76 : 有人\n",
      "77 : 現在\n",
      "78 : 做\n",
      "79 : 用\n",
      "80 : 又\n",
      "81 : ~\n",
      "82 : 阿\n",
      "83 : 話\n",
      "84 : ,\n",
      "85 : 時候\n",
      "86 : 和\n",
      "87 : 較\n",
      "88 : 怎樣\n",
      "89 : 女生\n",
      "90 : 日本\n",
      "91 : 聽\n",
      "92 : 一樣\n",
      "93 : 到底\n",
      "94 : 得\n",
      "95 : 不要\n",
      "96 : 讓\n",
      "97 : 卦\n",
      "98 : 打\n",
      "99 : 再\n",
      "100 : 大家\n"
     ]
    },
    {
     "data": {
      "text/plain": [
       "<BarContainer object of 100 artists>"
      ]
     },
     "execution_count": 16,
     "metadata": {},
     "output_type": "execute_result"
    },
    {
     "data": {
      "image/png": "[encoded data removed]",
      "text/plain": [
       "<Figure size 432x288 with 1 Axes>"
      ]
     },
     "metadata": {
      "needs_background": "light"
     },
     "output_type": "display_data"
    }
   ],
   "source": [
    "import matplotlib.pyplot as plt\n",
    "\n",
    "num = []\n",
    "index=1\n",
    "\n",
    "for i in range(100):\n",
    "    num.append(index)\n",
    "    print(index,\":\",wordArr[i])\n",
    "    index+=1\n",
    "plt.bar(num, countArr)\n"
   ]
  },
  {
   "cell_type": "code",
   "execution_count": null,
   "id": "25dd0e9c",
   "metadata": {},
   "outputs": [],
   "source": []
  }
 ],
 "metadata": {
  "kernelspec": {
   "display_name": "Python 3 (ipykernel)",
   "language": "python",
   "name": "python3"
  },
  "language_info": {
   "codemirror_mode": {
    "name": "ipython",
    "version": 3
   },
   "file_extension": ".py",
   "mimetype": "text/x-python",
   "name": "python",
   "nbconvert_exporter": "python",
   "pygments_lexer": "ipython3",
   "version": "3.9.4"
  }
 },
 "nbformat": 4,
 "nbformat_minor": 5
}
